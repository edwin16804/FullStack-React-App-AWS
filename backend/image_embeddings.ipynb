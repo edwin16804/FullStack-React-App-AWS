{
 "cells": [
  {
   "cell_type": "code",
   "execution_count": null,
   "id": "ddd897c6",
   "metadata": {},
   "outputs": [],
   "source": [
    "import torch\n",
    "\n",
    "torch.cuda.is_available()"
   ]
  },
  {
   "cell_type": "code",
   "execution_count": null,
   "id": "e63a816b",
   "metadata": {},
   "outputs": [],
   "source": [
    "import torch\n",
    "import torch.nn as nn\n",
    "from torchvision import models , transforms\n",
    "from PIL import Image\n",
    "\n",
    "\n",
    "resnet = models.resnet18(pretrained=True)\n",
    "\n",
    "model = nn.Sequential(*list(resnet.children())[:-1])\n",
    "model.eval()"
   ]
  },
  {
   "cell_type": "code",
   "execution_count": null,
   "id": "5cd32530",
   "metadata": {},
   "outputs": [],
   "source": [
    "# Image preprocessing pipeline\n",
    "preprocess = transforms.Compose([\n",
    "    transforms.Resize(256),\n",
    "    transforms.CenterCrop(224),\n",
    "    transforms.ToTensor(),\n",
    "    transforms.Normalize(\n",
    "        mean=[0.485, 0.456, 0.406], \n",
    "        std=[0.229, 0.224, 0.225]\n",
    "    ),\n",
    "])\n",
    "\n",
    "def get_embedding(image_path: str):\n",
    "    img = Image.open(image_path).convert(\"RGB\")\n",
    "    img_t = preprocess(img).unsqueeze(0)  # add batch dimension\n",
    "    with torch.no_grad():\n",
    "        embedding = model(img_t).squeeze().numpy()  # shape (2048,)\n",
    "    return embedding\n"
   ]
  },
  {
   "cell_type": "code",
   "execution_count": null,
   "id": "a47bd21b",
   "metadata": {},
   "outputs": [],
   "source": [
    "embedding = get_embedding(\"Images/airmax-97.jpg\")\n",
    "print(embedding.shape) \n",
    "\n"
   ]
  },
  {
   "cell_type": "code",
   "execution_count": null,
   "id": "1d576a97",
   "metadata": {},
   "outputs": [],
   "source": [
    "embedding = get_embedding(\"Images/nike-sb.png\")\n",
    "embedding"
   ]
  },
  {
   "cell_type": "code",
   "execution_count": null,
   "id": "c73e1622",
   "metadata": {},
   "outputs": [],
   "source": [
    "import os\n",
    "from dotenv import load_dotenv\n",
    "from astrapy import DataAPIClient\n",
    "from astrapy.constants import VectorMetric\n",
    "from astrapy.info import CollectionDefinition\n",
    "\n",
    "# Load environment variables from .env file\n",
    "load_dotenv()\n",
    "\n",
    "ASTRA_DB_APPLICATION_TOKEN = os.getenv(\"ASTRA_DB_APPLICATION_TOKEN\")\n",
    "ASTRA_DB_API_ENDPOINT = os.getenv(\"ASTRA_DB_API_ENDPOINT\")\n",
    "\n",
    "client = DataAPIClient()\n",
    "\n",
    "db = client.get_database(\n",
    "    ASTRA_DB_API_ENDPOINT,\n",
    "    token=ASTRA_DB_APPLICATION_TOKEN\n",
    ")"
   ]
  },
  {
   "cell_type": "code",
   "execution_count": null,
   "id": "919cddfa",
   "metadata": {},
   "outputs": [],
   "source": [
    "\n",
    "\n",
    "# Create collection (only runs if it doesn't exist)\n",
    "my_collection = db.create_collection(\n",
    "    \"sneaker_search\",\n",
    "    definition=(\n",
    "        CollectionDefinition.builder()\n",
    "        .set_vector_dimension(512)   # must match your embedding dimension\n",
    "        .set_vector_metric(VectorMetric.COSINE)\n",
    "        .build()\n",
    "    )\n",
    ")\n"
   ]
  },
  {
   "cell_type": "code",
   "execution_count": null,
   "id": "b3dcec6f",
   "metadata": {},
   "outputs": [],
   "source": [
    "embedding"
   ]
  },
  {
   "cell_type": "code",
   "execution_count": null,
   "id": "e886948c",
   "metadata": {},
   "outputs": [],
   "source": [
    "sample = {\n",
    "    'id': '1',\n",
    "    'image_path': 'Images/airmax-97.jpg',\n",
    "    '$vector': embedding.tolist()\n",
    "}\n",
    "\n",
    "my_collection.insert_one(sample)\n",
    "\n"
   ]
  },
  {
   "cell_type": "code",
   "execution_count": null,
   "id": "d4fb3cfc",
   "metadata": {},
   "outputs": [],
   "source": [
    "# Run  vector search\n",
    "query_embedding = get_embedding(\"Images/nike-sb.png\").tolist()\n",
    "\n",
    "cursor = my_collection.find(\n",
    "    {},\n",
    "    sort = {\"$vector\": query_embedding},\n",
    "    limit=5,\n",
    "    include_similarity=True,\n",
    ")\n",
    "for result in cursor:\n",
    "    print(f\"{result['image_path']}\")"
   ]
  },
  {
   "cell_type": "code",
   "execution_count": null,
   "id": "85160678",
   "metadata": {},
   "outputs": [],
   "source": []
  }
 ],
 "metadata": {
  "kernelspec": {
   "display_name": "Python 3",
   "language": "python",
   "name": "python3"
  },
  "language_info": {
   "codemirror_mode": {
    "name": "ipython",
    "version": 3
   },
   "file_extension": ".py",
   "mimetype": "text/x-python",
   "name": "python",
   "nbconvert_exporter": "python",
   "pygments_lexer": "ipython3",
   "version": "3.10.7"
  }
 },
 "nbformat": 4,
 "nbformat_minor": 5
}
